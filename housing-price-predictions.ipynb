{
 "cells": [
  {
   "cell_type": "code",
   "execution_count": 1,
   "id": "0caa15ee",
   "metadata": {
    "_kg_hide-input": true,
    "execution": {
     "iopub.execute_input": "2024-01-25T17:20:48.106752Z",
     "iopub.status.busy": "2024-01-25T17:20:48.105568Z",
     "iopub.status.idle": "2024-01-25T17:20:52.518130Z",
     "shell.execute_reply": "2024-01-25T17:20:52.517039Z"
    },
    "papermill": {
     "duration": 4.426649,
     "end_time": "2024-01-25T17:20:52.520494",
     "exception": false,
     "start_time": "2024-01-25T17:20:48.093845",
     "status": "completed"
    },
    "tags": []
   },
   "outputs": [
    {
     "name": "stderr",
     "output_type": "stream",
     "text": [
      "/tmp/ipykernel_18/3364722086.py:25: MatplotlibDeprecationWarning: The seaborn styles shipped by Matplotlib are deprecated since 3.6, as they no longer correspond to the styles shipped by seaborn. However, they will remain available as 'seaborn-v0_8-<style>'. Alternatively, directly use the seaborn API instead.\n",
      "  plt.style.use(\"seaborn-whitegrid\")\n"
     ]
    }
   ],
   "source": [
    "import os\n",
    "import warnings\n",
    "from pathlib import Path\n",
    "\n",
    "import matplotlib.pyplot as plt\n",
    "import numpy as np\n",
    "import pandas as pd\n",
    "import seaborn as sns\n",
    "from IPython.display import display\n",
    "from pandas.api.types import CategoricalDtype\n",
    "\n",
    "from category_encoders import MEstimateEncoder\n",
    "from sklearn.cluster import KMeans\n",
    "from sklearn.decomposition import PCA\n",
    "from sklearn.feature_selection import mutual_info_regression\n",
    "from sklearn.model_selection import KFold, cross_val_score\n",
    "from sklearn.preprocessing import StandardScaler\n",
    "from sklearn.ensemble import RandomForestRegressor\n",
    "from xgboost import XGBRegressor\n",
    "import lightgbm as lgb\n",
    "from catboost import CatBoostRegressor\n",
    "\n",
    "\n",
    "# Set Matplotlib defaults\n",
    "plt.style.use(\"seaborn-whitegrid\")\n",
    "plt.rc(\"figure\", autolayout=True)\n",
    "plt.rc(\n",
    "    \"axes\",\n",
    "    labelweight=\"bold\",\n",
    "    labelsize=\"large\",\n",
    "    titleweight=\"bold\",\n",
    "    titlesize=14,\n",
    "    titlepad=10,\n",
    ")\n",
    "\n",
    "# Mute warnings\n",
    "warnings.filterwarnings('ignore')"
   ]
  },
  {
   "cell_type": "code",
   "execution_count": 2,
   "id": "689ae123",
   "metadata": {
    "execution": {
     "iopub.execute_input": "2024-01-25T17:20:52.542870Z",
     "iopub.status.busy": "2024-01-25T17:20:52.541819Z",
     "iopub.status.idle": "2024-01-25T17:20:52.548909Z",
     "shell.execute_reply": "2024-01-25T17:20:52.548047Z"
    },
    "papermill": {
     "duration": 0.020685,
     "end_time": "2024-01-25T17:20:52.551067",
     "exception": false,
     "start_time": "2024-01-25T17:20:52.530382",
     "status": "completed"
    },
    "tags": []
   },
   "outputs": [],
   "source": [
    "def load_data():\n",
    "    # Read data\n",
    "    data_dir = Path(\"../input/house-prices-advanced-regression-techniques/\")\n",
    "    df_train = pd.read_csv(data_dir / \"train.csv\", index_col=\"Id\")\n",
    "    df_test = pd.read_csv(data_dir / \"test.csv\", index_col=\"Id\")\n",
    "    # Merge the splits so we can process them together\n",
    "    df = pd.concat([df_train, df_test])\n",
    "    # Preprocessing\n",
    "    df = clean(df)\n",
    "    df = encode(df)\n",
    "    df = impute(df)\n",
    "    # Reform splits\n",
    "    df_train = df.loc[df_train.index, :]\n",
    "    df_test = df.loc[df_test.index, :]\n",
    "    return df_train, df_test"
   ]
  },
  {
   "cell_type": "code",
   "execution_count": 3,
   "id": "91735120",
   "metadata": {
    "execution": {
     "iopub.execute_input": "2024-01-25T17:20:52.573026Z",
     "iopub.status.busy": "2024-01-25T17:20:52.572134Z",
     "iopub.status.idle": "2024-01-25T17:20:52.637403Z",
     "shell.execute_reply": "2024-01-25T17:20:52.636592Z"
    },
    "papermill": {
     "duration": 0.078597,
     "end_time": "2024-01-25T17:20:52.639700",
     "exception": false,
     "start_time": "2024-01-25T17:20:52.561103",
     "status": "completed"
    },
    "tags": []
   },
   "outputs": [
    {
     "data": {
      "text/plain": [
       "array(['VinylSd', 'MetalSd', 'Wd Shng', 'HdBoard', 'Plywood', 'Wd Sdng',\n",
       "       'CmentBd', 'BrkFace', 'Stucco', 'AsbShng', 'Brk Cmn', 'ImStucc',\n",
       "       'AsphShn', 'Stone', 'Other', 'CBlock'], dtype=object)"
      ]
     },
     "execution_count": 3,
     "metadata": {},
     "output_type": "execute_result"
    }
   ],
   "source": [
    "data_dir = Path(\"../input/house-prices-advanced-regression-techniques/\")\n",
    "df = pd.read_csv(data_dir / \"train.csv\", index_col=\"Id\")\n",
    "\n",
    "df.Exterior2nd.unique()"
   ]
  },
  {
   "cell_type": "code",
   "execution_count": 4,
   "id": "f1aef1f0",
   "metadata": {
    "execution": {
     "iopub.execute_input": "2024-01-25T17:20:52.661461Z",
     "iopub.status.busy": "2024-01-25T17:20:52.660994Z",
     "iopub.status.idle": "2024-01-25T17:20:52.667188Z",
     "shell.execute_reply": "2024-01-25T17:20:52.666139Z"
    },
    "papermill": {
     "duration": 0.019672,
     "end_time": "2024-01-25T17:20:52.669463",
     "exception": false,
     "start_time": "2024-01-25T17:20:52.649791",
     "status": "completed"
    },
    "tags": []
   },
   "outputs": [],
   "source": [
    "def clean(df):\n",
    "    df[\"Exterior2nd\"] = df[\"Exterior2nd\"].replace({\"Brk Cmn\": \"BrkComm\"})\n",
    "    # Some values of GarageYrBlt are corrupt, so we'll replace them\n",
    "    # with the year the house was built\n",
    "    df[\"GarageYrBlt\"] = df[\"GarageYrBlt\"].where(df.GarageYrBlt <= 2010, df.YearBuilt)\n",
    "    # Names beginning with numbers are awkward to work with\n",
    "    df.rename(columns={\n",
    "        \"1stFlrSF\": \"FirstFlrSF\",\n",
    "        \"2ndFlrSF\": \"SecondFlrSF\",\n",
    "        \"3SsnPorch\": \"Threeseasonporch\",\n",
    "    }, inplace=True,\n",
    "    )\n",
    "    return df"
   ]
  },
  {
   "cell_type": "code",
   "execution_count": 5,
   "id": "62a2a9f1",
   "metadata": {
    "_kg_hide-input": true,
    "execution": {
     "iopub.execute_input": "2024-01-25T17:20:52.692386Z",
     "iopub.status.busy": "2024-01-25T17:20:52.691181Z",
     "iopub.status.idle": "2024-01-25T17:20:52.702158Z",
     "shell.execute_reply": "2024-01-25T17:20:52.701347Z"
    },
    "papermill": {
     "duration": 0.024922,
     "end_time": "2024-01-25T17:20:52.704406",
     "exception": false,
     "start_time": "2024-01-25T17:20:52.679484",
     "status": "completed"
    },
    "tags": []
   },
   "outputs": [],
   "source": [
    "features_nom = [\"MSSubClass\", \"MSZoning\", \"Street\", \"Alley\", \"LandContour\", \"LotConfig\", \"Neighborhood\", \"Condition1\", \"Condition2\", \"BldgType\", \"HouseStyle\", \"RoofStyle\", \"RoofMatl\", \"Exterior1st\", \"Exterior2nd\", \"MasVnrType\", \"Foundation\", \"Heating\", \"CentralAir\", \"GarageType\", \"MiscFeature\", \"SaleType\", \"SaleCondition\"]\n",
    "\n",
    "five_levels = [\"Po\", \"Fa\", \"TA\", \"Gd\", \"Ex\"]\n",
    "ten_levels = list(range(10))\n",
    "\n",
    "ordered_levels = {\n",
    "    \"OverallQual\": ten_levels,\n",
    "    \"OverallCond\": ten_levels,\n",
    "    \"ExterQual\": five_levels,\n",
    "    \"ExterCond\": five_levels,\n",
    "    \"BsmtQual\": five_levels,\n",
    "    \"BsmtCond\": five_levels,\n",
    "    \"HeatingQC\": five_levels,\n",
    "    \"KitchenQual\": five_levels,\n",
    "    \"FireplaceQu\": five_levels,\n",
    "    \"GarageQual\": five_levels,\n",
    "    \"GarageCond\": five_levels,\n",
    "    \"PoolQC\": five_levels,\n",
    "    \"LotShape\": [\"Reg\", \"IR1\", \"IR2\", \"IR3\"],\n",
    "    \"LandSlope\": [\"Sev\", \"Mod\", \"Gtl\"],\n",
    "    \"BsmtExposure\": [\"No\", \"Mn\", \"Av\", \"Gd\"],\n",
    "    \"BsmtFinType1\": [\"Unf\", \"LwQ\", \"Rec\", \"BLQ\", \"ALQ\", \"GLQ\"],\n",
    "    \"BsmtFinType2\": [\"Unf\", \"LwQ\", \"Rec\", \"BLQ\", \"ALQ\", \"GLQ\"],\n",
    "    \"Functional\": [\"Sal\", \"Sev\", \"Maj1\", \"Maj2\", \"Mod\", \"Min2\", \"Min1\", \"Typ\"],\n",
    "    \"GarageFinish\": [\"Unf\", \"RFn\", \"Fin\"],\n",
    "    \"PavedDrive\": [\"N\", \"P\", \"Y\"],\n",
    "    \"Utilities\": [\"NoSeWa\", \"NoSewr\", \"AllPub\"],\n",
    "    \"CentralAir\": [\"N\", \"Y\"],\n",
    "    \"Electrical\": [\"Mix\", \"FuseP\", \"FuseF\", \"FuseA\", \"SBrkr\"],\n",
    "    \"Fence\": [\"MnWw\", \"GdWo\", \"MnPrv\", \"GdPrv\"],\n",
    "}\n",
    "\n",
    "ordered_levels = {key: [\"None\"] + value for key, value in\n",
    "                  ordered_levels.items()}\n",
    "\n",
    "\n",
    "def encode(df):\n",
    "    for name in features_nom:\n",
    "        df[name] = df[name].astype(\"category\")\n",
    "        if \"None\" not in df[name].cat.categories:\n",
    "            df[name] = df[name].cat.add_categories(\"None\")\n",
    "    for name, levels in ordered_levels.items():\n",
    "        df[name] = df[name].astype(CategoricalDtype(levels,\n",
    "                                                    ordered=True))\n",
    "    return df"
   ]
  },
  {
   "cell_type": "code",
   "execution_count": 6,
   "id": "e83df151",
   "metadata": {
    "execution": {
     "iopub.execute_input": "2024-01-25T17:20:52.726015Z",
     "iopub.status.busy": "2024-01-25T17:20:52.725598Z",
     "iopub.status.idle": "2024-01-25T17:20:52.731690Z",
     "shell.execute_reply": "2024-01-25T17:20:52.730964Z"
    },
    "papermill": {
     "duration": 0.019264,
     "end_time": "2024-01-25T17:20:52.733667",
     "exception": false,
     "start_time": "2024-01-25T17:20:52.714403",
     "status": "completed"
    },
    "tags": []
   },
   "outputs": [
    {
     "data": {
      "text/plain": [
       "'\\ndef impute(df):\\n    for name in df.select_dtypes(\"number\"):\\n        df[name] = df[name].fillna(0)\\n    for name in df.select_dtypes(\"category\"):\\n        df[name] = df[name].fillna(\"None\")\\n    return df\\n'"
      ]
     },
     "execution_count": 6,
     "metadata": {},
     "output_type": "execute_result"
    }
   ],
   "source": [
    "\"\"\"\n",
    "def impute(df):\n",
    "    for name in df.select_dtypes(\"number\"):\n",
    "        df[name] = df[name].fillna(0)\n",
    "    for name in df.select_dtypes(\"category\"):\n",
    "        df[name] = df[name].fillna(\"None\")\n",
    "    return df\n",
    "\"\"\""
   ]
  },
  {
   "cell_type": "code",
   "execution_count": 7,
   "id": "29b8a7aa",
   "metadata": {
    "execution": {
     "iopub.execute_input": "2024-01-25T17:20:52.756403Z",
     "iopub.status.busy": "2024-01-25T17:20:52.755651Z",
     "iopub.status.idle": "2024-01-25T17:20:52.766718Z",
     "shell.execute_reply": "2024-01-25T17:20:52.765730Z"
    },
    "papermill": {
     "duration": 0.025514,
     "end_time": "2024-01-25T17:20:52.769149",
     "exception": false,
     "start_time": "2024-01-25T17:20:52.743635",
     "status": "completed"
    },
    "tags": []
   },
   "outputs": [],
   "source": [
    "from sklearn.impute import SimpleImputer\n",
    "\n",
    "def impute(df):\n",
    "    numeric_columns = df.select_dtypes(\"number\").columns\n",
    "    numeric_imputer = SimpleImputer(strategy=\"constant\", fill_value=0)\n",
    "    df[numeric_columns] = numeric_imputer.fit_transform(df[numeric_columns])\n",
    "\n",
    "    categorical_columns = df.select_dtypes(\"category\").columns\n",
    "    categorical_imputer = SimpleImputer(strategy=\"constant\", fill_value=\"None\")\n",
    "    df[categorical_columns] = categorical_imputer.fit_transform(df[categorical_columns])\n",
    "\n",
    "    df[categorical_columns] = df[categorical_columns].astype(\"category\")\n",
    "\n",
    "    return df"
   ]
  },
  {
   "cell_type": "code",
   "execution_count": 8,
   "id": "9b87db06",
   "metadata": {
    "execution": {
     "iopub.execute_input": "2024-01-25T17:20:52.790955Z",
     "iopub.status.busy": "2024-01-25T17:20:52.790553Z",
     "iopub.status.idle": "2024-01-25T17:20:53.029059Z",
     "shell.execute_reply": "2024-01-25T17:20:53.027807Z"
    },
    "papermill": {
     "duration": 0.252464,
     "end_time": "2024-01-25T17:20:53.031593",
     "exception": false,
     "start_time": "2024-01-25T17:20:52.779129",
     "status": "completed"
    },
    "tags": []
   },
   "outputs": [],
   "source": [
    "df_train, df_test = load_data()"
   ]
  },
  {
   "cell_type": "code",
   "execution_count": 9,
   "id": "fdfa5c2b",
   "metadata": {
    "execution": {
     "iopub.execute_input": "2024-01-25T17:20:53.053675Z",
     "iopub.status.busy": "2024-01-25T17:20:53.052914Z",
     "iopub.status.idle": "2024-01-25T17:20:53.057944Z",
     "shell.execute_reply": "2024-01-25T17:20:53.056785Z"
    },
    "papermill": {
     "duration": 0.018909,
     "end_time": "2024-01-25T17:20:53.060603",
     "exception": false,
     "start_time": "2024-01-25T17:20:53.041694",
     "status": "completed"
    },
    "tags": []
   },
   "outputs": [],
   "source": [
    "#display(df_train)\n",
    "#display(df_test)\n",
    "\n",
    "#display(df_train.info())\n",
    "#display(df_test.info())"
   ]
  },
  {
   "cell_type": "code",
   "execution_count": 10,
   "id": "d2836044",
   "metadata": {
    "_kg_hide-input": true,
    "execution": {
     "iopub.execute_input": "2024-01-25T17:20:53.083689Z",
     "iopub.status.busy": "2024-01-25T17:20:53.081952Z",
     "iopub.status.idle": "2024-01-25T17:20:53.089304Z",
     "shell.execute_reply": "2024-01-25T17:20:53.088431Z"
    },
    "papermill": {
     "duration": 0.021201,
     "end_time": "2024-01-25T17:20:53.091695",
     "exception": false,
     "start_time": "2024-01-25T17:20:53.070494",
     "status": "completed"
    },
    "tags": []
   },
   "outputs": [],
   "source": [
    "def score_dataset(X, y, model=XGBRegressor()):\n",
    "    for colname in X.select_dtypes([\"category\"]):\n",
    "        X[colname] = X[colname].cat.codes\n",
    "    log_y = np.log(y)\n",
    "    score = cross_val_score(\n",
    "        model, X, log_y, cv=5, scoring=\"neg_mean_squared_error\",\n",
    "    )\n",
    "    score = -1 * score.mean()\n",
    "    score = np.sqrt(score)\n",
    "    return score"
   ]
  },
  {
   "cell_type": "code",
   "execution_count": 11,
   "id": "c695dd41",
   "metadata": {
    "execution": {
     "iopub.execute_input": "2024-01-25T17:20:53.114013Z",
     "iopub.status.busy": "2024-01-25T17:20:53.113122Z",
     "iopub.status.idle": "2024-01-25T17:20:53.119785Z",
     "shell.execute_reply": "2024-01-25T17:20:53.118924Z"
    },
    "papermill": {
     "duration": 0.02036,
     "end_time": "2024-01-25T17:20:53.122006",
     "exception": false,
     "start_time": "2024-01-25T17:20:53.101646",
     "status": "completed"
    },
    "tags": []
   },
   "outputs": [],
   "source": [
    "from sklearn.metrics import mean_absolute_error\n",
    "\n",
    "def score_dataset_mae(X, y, model=XGBRegressor()):\n",
    "    for colname in X.select_dtypes([\"category\"]):\n",
    "        X[colname] = X[colname].cat.codes\n",
    "    \n",
    "    score = cross_val_score(\n",
    "        model, X, y, cv=5, scoring=\"neg_mean_absolute_error\",\n",
    "    )\n",
    "    score = -1 * score.mean()\n",
    "    return score"
   ]
  },
  {
   "cell_type": "code",
   "execution_count": 12,
   "id": "7c127082",
   "metadata": {
    "execution": {
     "iopub.execute_input": "2024-01-25T17:20:53.143901Z",
     "iopub.status.busy": "2024-01-25T17:20:53.143244Z",
     "iopub.status.idle": "2024-01-25T17:20:56.389251Z",
     "shell.execute_reply": "2024-01-25T17:20:56.387982Z"
    },
    "papermill": {
     "duration": 3.259862,
     "end_time": "2024-01-25T17:20:56.391586",
     "exception": false,
     "start_time": "2024-01-25T17:20:53.131724",
     "status": "completed"
    },
    "tags": []
   },
   "outputs": [
    {
     "name": "stdout",
     "output_type": "stream",
     "text": [
      "Baseline score: 0.14036 RMSLE\n"
     ]
    }
   ],
   "source": [
    "X = df_train.copy()\n",
    "y = X.pop(\"SalePrice\")\n",
    "\n",
    "baseline_score = score_dataset(X, y)\n",
    "print(f\"Baseline score: {baseline_score:.5f} RMSLE\")"
   ]
  },
  {
   "cell_type": "code",
   "execution_count": 13,
   "id": "b212c132",
   "metadata": {
    "_kg_hide-input": true,
    "execution": {
     "iopub.execute_input": "2024-01-25T17:20:56.413782Z",
     "iopub.status.busy": "2024-01-25T17:20:56.413118Z",
     "iopub.status.idle": "2024-01-25T17:20:56.421085Z",
     "shell.execute_reply": "2024-01-25T17:20:56.419888Z"
    },
    "papermill": {
     "duration": 0.02171,
     "end_time": "2024-01-25T17:20:56.423307",
     "exception": false,
     "start_time": "2024-01-25T17:20:56.401597",
     "status": "completed"
    },
    "tags": []
   },
   "outputs": [],
   "source": [
    "def make_mi_scores(X, y):\n",
    "    X = X.copy()\n",
    "    for colname in X.select_dtypes([\"object\", \"category\"]):\n",
    "        X[colname], _ = X[colname].factorize()\n",
    "    discrete_features = [pd.api.types.is_integer_dtype(t) for t in X.dtypes]\n",
    "    mi_scores = mutual_info_regression(X, y, discrete_features=discrete_features, random_state=0)\n",
    "    mi_scores = pd.Series(mi_scores, name=\"MI Scores\", index=X.columns)\n",
    "    mi_scores = mi_scores.sort_values(ascending=False)\n",
    "    return mi_scores\n",
    "\n",
    "\n",
    "def plot_mi_scores(scores):\n",
    "    scores = scores.sort_values(ascending=True)\n",
    "    width = np.arange(len(scores))\n",
    "    ticks = list(scores.index)\n",
    "    plt.barh(width, scores)\n",
    "    plt.yticks(width, ticks)\n",
    "    plt.title(\"Mutual Information Scores\")"
   ]
  },
  {
   "cell_type": "code",
   "execution_count": 14,
   "id": "2b41010f",
   "metadata": {
    "execution": {
     "iopub.execute_input": "2024-01-25T17:20:56.444785Z",
     "iopub.status.busy": "2024-01-25T17:20:56.444376Z",
     "iopub.status.idle": "2024-01-25T17:20:57.324140Z",
     "shell.execute_reply": "2024-01-25T17:20:57.323080Z"
    },
    "papermill": {
     "duration": 0.893049,
     "end_time": "2024-01-25T17:20:57.326267",
     "exception": false,
     "start_time": "2024-01-25T17:20:56.433218",
     "status": "completed"
    },
    "tags": []
   },
   "outputs": [
    {
     "data": {
      "text/plain": [
       "OverallQual         0.570843\n",
       "Neighborhood        0.527157\n",
       "GrLivArea           0.480792\n",
       "GarageCars          0.371714\n",
       "TotalBsmtSF         0.366318\n",
       "                      ...   \n",
       "PoolArea            0.000000\n",
       "Threeseasonporch    0.000000\n",
       "MoSold              0.000000\n",
       "YrSold              0.000000\n",
       "BsmtFinSF2          0.000000\n",
       "Name: MI Scores, Length: 79, dtype: float64"
      ]
     },
     "execution_count": 14,
     "metadata": {},
     "output_type": "execute_result"
    }
   ],
   "source": [
    "X = df_train.copy()\n",
    "y = X.pop(\"SalePrice\")\n",
    "\n",
    "mi_scores = make_mi_scores(X, y)\n",
    "mi_scores"
   ]
  },
  {
   "cell_type": "code",
   "execution_count": 15,
   "id": "3150e21f",
   "metadata": {
    "execution": {
     "iopub.execute_input": "2024-01-25T17:20:57.348446Z",
     "iopub.status.busy": "2024-01-25T17:20:57.348047Z",
     "iopub.status.idle": "2024-01-25T17:20:57.354536Z",
     "shell.execute_reply": "2024-01-25T17:20:57.353375Z"
    },
    "papermill": {
     "duration": 0.02025,
     "end_time": "2024-01-25T17:20:57.356546",
     "exception": false,
     "start_time": "2024-01-25T17:20:57.336296",
     "status": "completed"
    },
    "tags": []
   },
   "outputs": [
    {
     "data": {
      "text/plain": [
       "'\\ndef drop_uninformative(df, mi_scores):\\n    return df.loc[:, mi_scores > 0.0]\\n\\n'"
      ]
     },
     "execution_count": 15,
     "metadata": {},
     "output_type": "execute_result"
    }
   ],
   "source": [
    "\"\"\"\n",
    "def drop_uninformative(df, mi_scores):\n",
    "    return df.loc[:, mi_scores > 0.0]\n",
    "\n",
    "\"\"\""
   ]
  },
  {
   "cell_type": "code",
   "execution_count": 16,
   "id": "020ef2ac",
   "metadata": {
    "execution": {
     "iopub.execute_input": "2024-01-25T17:20:57.378772Z",
     "iopub.status.busy": "2024-01-25T17:20:57.378304Z",
     "iopub.status.idle": "2024-01-25T17:20:57.383652Z",
     "shell.execute_reply": "2024-01-25T17:20:57.382671Z"
    },
    "papermill": {
     "duration": 0.019067,
     "end_time": "2024-01-25T17:20:57.385918",
     "exception": false,
     "start_time": "2024-01-25T17:20:57.366851",
     "status": "completed"
    },
    "tags": []
   },
   "outputs": [],
   "source": [
    "def drop_uninformative(df, mi_scores):\n",
    "    columns_to_keep = mi_scores[mi_scores > 0].index.union(['Threeseasonporch'])\n",
    "    return df[columns_to_keep]"
   ]
  },
  {
   "cell_type": "code",
   "execution_count": 17,
   "id": "b8acf738",
   "metadata": {
    "execution": {
     "iopub.execute_input": "2024-01-25T17:20:57.468435Z",
     "iopub.status.busy": "2024-01-25T17:20:57.467286Z",
     "iopub.status.idle": "2024-01-25T17:20:59.888243Z",
     "shell.execute_reply": "2024-01-25T17:20:59.887558Z"
    },
    "papermill": {
     "duration": 2.494275,
     "end_time": "2024-01-25T17:20:59.890357",
     "exception": false,
     "start_time": "2024-01-25T17:20:57.396082",
     "status": "completed"
    },
    "tags": []
   },
   "outputs": [
    {
     "data": {
      "text/plain": [
       "0.13724634252682824"
      ]
     },
     "execution_count": 17,
     "metadata": {},
     "output_type": "execute_result"
    }
   ],
   "source": [
    "X = df_train.copy()\n",
    "y = X.pop(\"SalePrice\")\n",
    "X = drop_uninformative(X, mi_scores)\n",
    "\n",
    "score_dataset(X, y)"
   ]
  },
  {
   "cell_type": "code",
   "execution_count": 18,
   "id": "cd750e46",
   "metadata": {
    "execution": {
     "iopub.execute_input": "2024-01-25T17:20:59.914385Z",
     "iopub.status.busy": "2024-01-25T17:20:59.913245Z",
     "iopub.status.idle": "2024-01-25T17:20:59.918846Z",
     "shell.execute_reply": "2024-01-25T17:20:59.918128Z"
    },
    "papermill": {
     "duration": 0.019081,
     "end_time": "2024-01-25T17:20:59.920794",
     "exception": false,
     "start_time": "2024-01-25T17:20:59.901713",
     "status": "completed"
    },
    "tags": []
   },
   "outputs": [],
   "source": [
    "def label_encode(df):\n",
    "    X = df.copy()\n",
    "    for colname in X.select_dtypes([\"category\"]):\n",
    "        X[colname] = X[colname].cat.codes\n",
    "    return X"
   ]
  },
  {
   "cell_type": "code",
   "execution_count": 19,
   "id": "d6141685",
   "metadata": {
    "_kg_hide-input": true,
    "execution": {
     "iopub.execute_input": "2024-01-25T17:20:59.943928Z",
     "iopub.status.busy": "2024-01-25T17:20:59.942661Z",
     "iopub.status.idle": "2024-01-25T17:20:59.952738Z",
     "shell.execute_reply": "2024-01-25T17:20:59.951723Z"
    },
    "papermill": {
     "duration": 0.024089,
     "end_time": "2024-01-25T17:20:59.955203",
     "exception": false,
     "start_time": "2024-01-25T17:20:59.931114",
     "status": "completed"
    },
    "tags": []
   },
   "outputs": [],
   "source": [
    "def mathematical_transforms(df):\n",
    "    X = pd.DataFrame()\n",
    "    X[\"LivLotRatio\"] = df.GrLivArea / df.LotArea\n",
    "    X[\"Spaciousness\"] = (df.FirstFlrSF + df.SecondFlrSF) / df.TotRmsAbvGrd\n",
    "    return X\n",
    "\n",
    "def interactions(df):\n",
    "    X1 = pd.get_dummies(df.BldgType, prefix=\"Bldg\")\n",
    "    X1 = X1.mul(df.GrLivArea, axis=0)\n",
    "    X2 = pd.get_dummies(df[\"BsmtQual\"], prefix=\"BsmtQual\")\n",
    "    X2 = X2.mul(df[\"TotalBsmtSF\"], axis=0)\n",
    "    X = pd.concat([X1, X2], axis=1)\n",
    "    return X\n",
    "\n",
    "def counts(df):\n",
    "    X = pd.DataFrame()\n",
    "    X[\"PorchTypes\"] = df[[\n",
    "        \"WoodDeckSF\",\n",
    "        \"OpenPorchSF\",\n",
    "        \"EnclosedPorch\",\n",
    "        \"Threeseasonporch\",\n",
    "        \"ScreenPorch\",\n",
    "    ]].gt(0.0).sum(axis=1)\n",
    "    return X\n",
    "\n",
    "\n",
    "def break_down(df):\n",
    "    X = pd.DataFrame()\n",
    "    X[\"MSClass\"] = df.MSSubClass.str.split(\"_\", n=1, expand=True)[0]\n",
    "    return X\n",
    "\n",
    "\n",
    "def group_transforms(df):\n",
    "    X = pd.DataFrame()\n",
    "    X[\"MedNhbdArea\"] = df.groupby(\"Neighborhood\")[\"GrLivArea\"].transform(\"median\")\n",
    "    return X"
   ]
  },
  {
   "cell_type": "code",
   "execution_count": 20,
   "id": "5754a269",
   "metadata": {
    "_kg_hide-input": true,
    "execution": {
     "iopub.execute_input": "2024-01-25T17:20:59.977890Z",
     "iopub.status.busy": "2024-01-25T17:20:59.977528Z",
     "iopub.status.idle": "2024-01-25T17:20:59.985300Z",
     "shell.execute_reply": "2024-01-25T17:20:59.984238Z"
    },
    "lines_to_next_cell": 2,
    "papermill": {
     "duration": 0.021936,
     "end_time": "2024-01-25T17:20:59.987617",
     "exception": false,
     "start_time": "2024-01-25T17:20:59.965681",
     "status": "completed"
    },
    "tags": []
   },
   "outputs": [],
   "source": [
    "cluster_features = [\n",
    "    \"LotArea\",\n",
    "    \"TotalBsmtSF\",\n",
    "    \"FirstFlrSF\",\n",
    "    \"SecondFlrSF\",\n",
    "    \"GrLivArea\",\n",
    "]\n",
    "\n",
    "\n",
    "def cluster_labels(df, features, n_clusters=20):\n",
    "    X = df.copy()\n",
    "    X_scaled = X.loc[:, features]\n",
    "    X_scaled = (X_scaled - X_scaled.mean(axis=0)) / X_scaled.std(axis=0)\n",
    "    kmeans = KMeans(n_clusters=n_clusters, n_init=50, random_state=0)\n",
    "    X_new = pd.DataFrame()\n",
    "    X_new[\"Cluster\"] = kmeans.fit_predict(X_scaled)\n",
    "    return X_new\n",
    "\n",
    "\n",
    "def cluster_distance(df, features, n_clusters=20):\n",
    "    X = df.copy()\n",
    "    X_scaled = X.loc[:, features]\n",
    "    X_scaled = (X_scaled - X_scaled.mean(axis=0)) / X_scaled.std(axis=0)\n",
    "    kmeans = KMeans(n_clusters=20, n_init=50, random_state=0)\n",
    "    X_cd = kmeans.fit_transform(X_scaled)\n",
    "    X_cd = pd.DataFrame(\n",
    "        X_cd, columns=[f\"Centroid_{i}\" for i in range(X_cd.shape[1])]\n",
    "    )\n",
    "    return X_cd"
   ]
  },
  {
   "cell_type": "code",
   "execution_count": 21,
   "id": "b4df54b8",
   "metadata": {
    "_kg_hide-input": true,
    "execution": {
     "iopub.execute_input": "2024-01-25T17:21:00.010166Z",
     "iopub.status.busy": "2024-01-25T17:21:00.009808Z",
     "iopub.status.idle": "2024-01-25T17:21:00.018599Z",
     "shell.execute_reply": "2024-01-25T17:21:00.017504Z"
    },
    "papermill": {
     "duration": 0.022535,
     "end_time": "2024-01-25T17:21:00.020705",
     "exception": false,
     "start_time": "2024-01-25T17:20:59.998170",
     "status": "completed"
    },
    "tags": []
   },
   "outputs": [],
   "source": [
    "def apply_pca(X, standardize=True):\n",
    "    if standardize:\n",
    "        X = (X - X.mean(axis=0)) / X.std(axis=0)\n",
    "    pca = PCA()\n",
    "    X_pca = pca.fit_transform(X)\n",
    "    component_names = [f\"PC{i+1}\" for i in range(X_pca.shape[1])]\n",
    "    X_pca = pd.DataFrame(X_pca, columns=component_names)\n",
    "    loadings = pd.DataFrame(\n",
    "        pca.components_.T,\n",
    "        columns=component_names,\n",
    "        index=X.columns,\n",
    "    )\n",
    "    return pca, X_pca, loadings\n",
    "\n",
    "\n",
    "def plot_variance(pca, width=8, dpi=100):\n",
    "    fig, axs = plt.subplots(1, 2)\n",
    "    n = pca.n_components_\n",
    "    grid = np.arange(1, n + 1)\n",
    "    evr = pca.explained_variance_ratio_\n",
    "    axs[0].bar(grid, evr)\n",
    "    axs[0].set(\n",
    "        xlabel=\"Component\", title=\"% Explained Variance\", ylim=(0.0, 1.0)\n",
    "    )\n",
    "    cv = np.cumsum(evr)\n",
    "    axs[1].plot(np.r_[0, grid], np.r_[0, cv], \"o-\")\n",
    "    axs[1].set(\n",
    "        xlabel=\"Component\", title=\"% Cumulative Variance\", ylim=(0.0, 1.0)\n",
    "    )\n",
    "    fig.set(figwidth=8, dpi=100)\n",
    "    return axs"
   ]
  },
  {
   "cell_type": "code",
   "execution_count": 22,
   "id": "9043a96c",
   "metadata": {
    "_kg_hide-input": true,
    "execution": {
     "iopub.execute_input": "2024-01-25T17:21:00.043313Z",
     "iopub.status.busy": "2024-01-25T17:21:00.042959Z",
     "iopub.status.idle": "2024-01-25T17:21:00.049384Z",
     "shell.execute_reply": "2024-01-25T17:21:00.048099Z"
    },
    "papermill": {
     "duration": 0.020353,
     "end_time": "2024-01-25T17:21:00.051608",
     "exception": false,
     "start_time": "2024-01-25T17:21:00.031255",
     "status": "completed"
    },
    "tags": []
   },
   "outputs": [],
   "source": [
    "def pca_inspired(df):\n",
    "    X = pd.DataFrame()\n",
    "    X[\"Feature1\"] = df.GrLivArea + df.TotalBsmtSF\n",
    "    X[\"Feature2\"] = df.YearRemodAdd * df.TotalBsmtSF\n",
    "    return X\n",
    "\n",
    "\n",
    "def pca_components(df, features):\n",
    "    X = df.loc[:, features]\n",
    "    _, X_pca, _ = apply_pca(X)\n",
    "    return X_pca\n",
    "\n",
    "\n",
    "pca_features = [\n",
    "    \"GarageArea\",\n",
    "    \"YearRemodAdd\",\n",
    "    \"TotalBsmtSF\",\n",
    "    \"GrLivArea\",\n",
    "]"
   ]
  },
  {
   "cell_type": "code",
   "execution_count": 23,
   "id": "76c740d7",
   "metadata": {
    "execution": {
     "iopub.execute_input": "2024-01-25T17:21:00.073994Z",
     "iopub.status.busy": "2024-01-25T17:21:00.073623Z",
     "iopub.status.idle": "2024-01-25T17:21:01.448702Z",
     "shell.execute_reply": "2024-01-25T17:21:01.447528Z"
    },
    "papermill": {
     "duration": 1.390507,
     "end_time": "2024-01-25T17:21:01.452478",
     "exception": false,
     "start_time": "2024-01-25T17:21:00.061971",
     "status": "completed"
    },
    "tags": []
   },
   "outputs": [
    {
     "data": {
      "image/png": "[encoded data removed]",
      "text/plain": [
       "<Figure size 1000x1000 with 4 Axes>"
      ]
     },
     "metadata": {},
     "output_type": "display_data"
    }
   ],
   "source": [
    "def corrplot(df, method=\"pearson\", annot=True, **kwargs):\n",
    "    sns.clustermap(\n",
    "        df.corr(method, numeric_only=True),\n",
    "        vmin=-1.0,\n",
    "        vmax=1.0,\n",
    "        cmap=\"icefire\",\n",
    "        method=\"complete\",\n",
    "        annot=annot,\n",
    "        **kwargs,\n",
    "    )\n",
    "\n",
    "\n",
    "corrplot(df_train, annot=None)"
   ]
  },
  {
   "cell_type": "code",
   "execution_count": 24,
   "id": "d3a9ce15",
   "metadata": {
    "execution": {
     "iopub.execute_input": "2024-01-25T17:21:01.479508Z",
     "iopub.status.busy": "2024-01-25T17:21:01.478860Z",
     "iopub.status.idle": "2024-01-25T17:21:01.483912Z",
     "shell.execute_reply": "2024-01-25T17:21:01.483216Z"
    },
    "papermill": {
     "duration": 0.020734,
     "end_time": "2024-01-25T17:21:01.485854",
     "exception": false,
     "start_time": "2024-01-25T17:21:01.465120",
     "status": "completed"
    },
    "tags": []
   },
   "outputs": [],
   "source": [
    "def indicate_outliers(df):\n",
    "    X_new = pd.DataFrame()\n",
    "    X_new[\"Outlier\"] = (df.Neighborhood == \"Edwards\") & (df.SaleCondition == \"Partial\")\n",
    "    return X_new"
   ]
  },
  {
   "cell_type": "code",
   "execution_count": 25,
   "id": "729af3c8",
   "metadata": {
    "_kg_hide-input": true,
    "execution": {
     "iopub.execute_input": "2024-01-25T17:21:01.512797Z",
     "iopub.status.busy": "2024-01-25T17:21:01.512153Z",
     "iopub.status.idle": "2024-01-25T17:21:01.522173Z",
     "shell.execute_reply": "2024-01-25T17:21:01.521322Z"
    },
    "papermill": {
     "duration": 0.026457,
     "end_time": "2024-01-25T17:21:01.524705",
     "exception": false,
     "start_time": "2024-01-25T17:21:01.498248",
     "status": "completed"
    },
    "tags": []
   },
   "outputs": [],
   "source": [
    "class CrossFoldEncoder:\n",
    "    def __init__(self, encoder, **kwargs):\n",
    "        self.encoder_ = encoder\n",
    "        self.kwargs_ = kwargs  # keyword arguments for the encoder\n",
    "        self.cv_ = KFold(n_splits=5)\n",
    "\n",
    "    # Fit an encoder on one split and transform the feature on the\n",
    "    # other. Iterating over the splits in all folds gives a complete\n",
    "    # transformation. We also now have one trained encoder on each\n",
    "    # fold.\n",
    "    def fit_transform(self, X, y, cols):\n",
    "        self.fitted_encoders_ = []\n",
    "        self.cols_ = cols\n",
    "        X_encoded = []\n",
    "        for idx_encode, idx_train in self.cv_.split(X):\n",
    "            fitted_encoder = self.encoder_(cols=cols, **self.kwargs_)\n",
    "            fitted_encoder.fit(\n",
    "                X.iloc[idx_encode, :], y.iloc[idx_encode],\n",
    "            )\n",
    "            X_encoded.append(fitted_encoder.transform(X.iloc[idx_train, :])[cols])\n",
    "            self.fitted_encoders_.append(fitted_encoder)\n",
    "        X_encoded = pd.concat(X_encoded)\n",
    "        X_encoded.columns = [name + \"_encoded\" for name in X_encoded.columns]\n",
    "        return X_encoded\n",
    "\n",
    "    # To transform the test data, average the encodings learned from\n",
    "    # each fold.\n",
    "    def transform(self, X):\n",
    "        from functools import reduce\n",
    "\n",
    "        X_encoded_list = []\n",
    "        for fitted_encoder in self.fitted_encoders_:\n",
    "            X_encoded = fitted_encoder.transform(X)\n",
    "            X_encoded_list.append(X_encoded[self.cols_])\n",
    "        X_encoded = reduce(\n",
    "            lambda x, y: x.add(y, fill_value=0), X_encoded_list\n",
    "        ) / len(X_encoded_list)\n",
    "        X_encoded.columns = [name + \"_encoded\" for name in X_encoded.columns]\n",
    "        return X_encoded"
   ]
  },
  {
   "cell_type": "markdown",
   "id": "a182ad41",
   "metadata": {
    "papermill": {
     "duration": 0.011939,
     "end_time": "2024-01-25T17:21:01.549059",
     "exception": false,
     "start_time": "2024-01-25T17:21:01.537120",
     "status": "completed"
    },
    "tags": []
   },
   "source": [
    "Use it like:\n",
    "\n",
    "```\n",
    "encoder = CrossFoldEncoder(MEstimateEncoder, m=1)\n",
    "X_encoded = encoder.fit_transform(X, y, cols=[\"MSSubClass\"]))\n",
    "```"
   ]
  },
  {
   "cell_type": "code",
   "execution_count": 26,
   "id": "1ffff7b7",
   "metadata": {
    "execution": {
     "iopub.execute_input": "2024-01-25T17:21:01.575721Z",
     "iopub.status.busy": "2024-01-25T17:21:01.575060Z",
     "iopub.status.idle": "2024-01-25T17:21:01.581122Z",
     "shell.execute_reply": "2024-01-25T17:21:01.580377Z"
    },
    "papermill": {
     "duration": 0.02184,
     "end_time": "2024-01-25T17:21:01.583265",
     "exception": false,
     "start_time": "2024-01-25T17:21:01.561425",
     "status": "completed"
    },
    "tags": []
   },
   "outputs": [],
   "source": [
    "from scipy.stats import skew, boxcox\n",
    "\n",
    "def handle_skewness(df, skew_threshold=1.0):\n",
    "    X = df.copy()\n",
    "    numeric_columns = X.select_dtypes(include=np.number).columns\n",
    "\n",
    "    for column in numeric_columns:\n",
    "        skewness = skew(X[column])\n",
    "        if abs(skewness) > skew_threshold:\n",
    "            X[column], _ = boxcox(X[column] + 1)\n",
    "\n",
    "    return X"
   ]
  },
  {
   "cell_type": "code",
   "execution_count": 27,
   "id": "722d7330",
   "metadata": {
    "execution": {
     "iopub.execute_input": "2024-01-25T17:21:01.610941Z",
     "iopub.status.busy": "2024-01-25T17:21:01.610279Z",
     "iopub.status.idle": "2024-01-25T17:21:06.140301Z",
     "shell.execute_reply": "2024-01-25T17:21:06.139245Z"
    },
    "papermill": {
     "duration": 4.546117,
     "end_time": "2024-01-25T17:21:06.142496",
     "exception": false,
     "start_time": "2024-01-25T17:21:01.596379",
     "status": "completed"
    },
    "tags": []
   },
   "outputs": [
    {
     "data": {
      "text/plain": [
       "0.1381206875877096"
      ]
     },
     "execution_count": 27,
     "metadata": {},
     "output_type": "execute_result"
    }
   ],
   "source": [
    "def create_features(df, df_test=None):\n",
    "    X = df.copy()\n",
    "    y = X.pop(\"SalePrice\")\n",
    "    mi_scores = make_mi_scores(X, y)\n",
    "\n",
    "    if df_test is not None:\n",
    "        X_test = df_test.copy()\n",
    "        X_test.pop(\"SalePrice\")\n",
    "        X = pd.concat([X, X_test])\n",
    "\n",
    "    # Mutual Information\n",
    "    X = drop_uninformative(X, mi_scores)\n",
    "\n",
    "    # Transformations\n",
    "    X = X.join(mathematical_transforms(X))\n",
    "    X = X.join(interactions(X))\n",
    "    X = X.join(counts(X))\n",
    "    # X = X.join(break_down(X))\n",
    "    X = X.join(group_transforms(X))\n",
    "\n",
    "    # Clustering\n",
    "    # X = X.join(cluster_labels(X, cluster_features, n_clusters=20))\n",
    "    # X = X.join(cluster_distance(X, cluster_features, n_clusters=20))\n",
    "\n",
    "    # PCA\n",
    "    X = X.join(pca_inspired(X))\n",
    "    # X = X.join(pca_components(X, pca_features))\n",
    "    # X = X.join(indicate_outliers(X))\n",
    "    \n",
    "    # X = handle_skewness(X)\n",
    "\n",
    "    X = label_encode(X)\n",
    "\n",
    "    # Reform splits\n",
    "    if df_test is not None:\n",
    "        X_test = X.loc[df_test.index, :]\n",
    "        X.drop(df_test.index, inplace=True)\n",
    "\n",
    "    # Target Encoder\n",
    "    encoder = CrossFoldEncoder(MEstimateEncoder, m=1)\n",
    "    X = X.join(encoder.fit_transform(X, y, cols=[\"MSSubClass\"]))\n",
    "    if df_test is not None:\n",
    "        X_test = X_test.join(encoder.transform(X_test))\n",
    "\n",
    "    if df_test is not None:\n",
    "        return X, X_test\n",
    "    else:\n",
    "        return X\n",
    "\n",
    "\n",
    "df_train, df_test = load_data()\n",
    "X_train = create_features(df_train)\n",
    "y_train = df_train.loc[:, \"SalePrice\"]\n",
    "\n",
    "score_dataset(X_train, y_train)"
   ]
  },
  {
   "cell_type": "code",
   "execution_count": 28,
   "id": "d4286dcb",
   "metadata": {
    "execution": {
     "iopub.execute_input": "2024-01-25T17:21:06.169320Z",
     "iopub.status.busy": "2024-01-25T17:21:06.168648Z",
     "iopub.status.idle": "2024-01-25T17:21:06.174198Z",
     "shell.execute_reply": "2024-01-25T17:21:06.173465Z"
    },
    "papermill": {
     "duration": 0.021358,
     "end_time": "2024-01-25T17:21:06.176366",
     "exception": false,
     "start_time": "2024-01-25T17:21:06.155008",
     "status": "completed"
    },
    "tags": []
   },
   "outputs": [],
   "source": [
    "from sklearn.ensemble import IsolationForest\n",
    "\n",
    "def remove_outliers(X, y, contamination=0.01):\n",
    "    iso_forest = IsolationForest(contamination=contamination, random_state=0)\n",
    "    outlier_preds = iso_forest.fit_predict(X)\n",
    "\n",
    "    inlier_indices = outlier_preds == 1\n",
    "    X_no_outliers = X[inlier_indices]\n",
    "    y_no_outliers = y[inlier_indices]\n",
    "\n",
    "    rows_removed = X.shape[0] - X_no_outliers.shape[0]\n",
    "    print(f\"Number of rows removed: {rows_removed}\")\n",
    "\n",
    "    return X_no_outliers, y_no_outliers"
   ]
  },
  {
   "cell_type": "code",
   "execution_count": 29,
   "id": "ac4ad987",
   "metadata": {
    "execution": {
     "iopub.execute_input": "2024-01-25T17:21:06.203755Z",
     "iopub.status.busy": "2024-01-25T17:21:06.202883Z",
     "iopub.status.idle": "2024-01-25T17:21:09.871932Z",
     "shell.execute_reply": "2024-01-25T17:21:09.871197Z"
    },
    "papermill": {
     "duration": 3.684598,
     "end_time": "2024-01-25T17:21:09.873962",
     "exception": false,
     "start_time": "2024-01-25T17:21:06.189364",
     "status": "completed"
    },
    "tags": []
   },
   "outputs": [
    {
     "name": "stdout",
     "output_type": "stream",
     "text": [
      "Number of rows removed: 15\n"
     ]
    },
    {
     "data": {
      "text/plain": [
       "0.13481010784770242"
      ]
     },
     "execution_count": 29,
     "metadata": {},
     "output_type": "execute_result"
    }
   ],
   "source": [
    "X_train_no_outliers, y_train_no_outliers = remove_outliers(X_train, y_train)\n",
    "\n",
    "score_dataset(X_train_no_outliers, y_train_no_outliers)\n",
    "\n",
    "# 0.1412036992039651\n",
    "# 0.1381206875877096\n",
    "# 0.13481010784770242"
   ]
  },
  {
   "cell_type": "code",
   "execution_count": 30,
   "id": "690e028e",
   "metadata": {
    "execution": {
     "iopub.execute_input": "2024-01-25T17:21:09.901517Z",
     "iopub.status.busy": "2024-01-25T17:21:09.900842Z",
     "iopub.status.idle": "2024-01-25T17:21:09.906727Z",
     "shell.execute_reply": "2024-01-25T17:21:09.905800Z"
    },
    "papermill": {
     "duration": 0.022291,
     "end_time": "2024-01-25T17:21:09.908910",
     "exception": false,
     "start_time": "2024-01-25T17:21:09.886619",
     "status": "completed"
    },
    "tags": []
   },
   "outputs": [
    {
     "data": {
      "text/plain": [
       "'\\nimport optuna\\n\\ndef objective(trial):\\n    xgb_params = dict(\\n        max_depth=trial.suggest_int(\"max_depth\", 2, 10),\\n        learning_rate=trial.suggest_float(\"learning_rate\", 1e-4, 1e-1, log=True),\\n        n_estimators=trial.suggest_int(\"n_estimators\", 1000, 8000),\\n        min_child_weight=trial.suggest_int(\"min_child_weight\", 1, 10),\\n        colsample_bytree=trial.suggest_float(\"colsample_bytree\", 0.2, 1.0),\\n        subsample=trial.suggest_float(\"subsample\", 0.2, 1.0),\\n        reg_alpha=trial.suggest_float(\"reg_alpha\", 1e-4, 1e2, log=True),\\n        reg_lambda=trial.suggest_float(\"reg_lambda\", 1e-4, 1e2, log=True),\\n    )\\n    xgb = XGBRegressor(**xgb_params)\\n    return score_dataset(X_train, y_train, xgb)\\n\\nstudy = optuna.create_study(direction=\"minimize\")\\nstudy.optimize(objective, n_trials=30, n_jobs=-1)\\nxgb_params = study.best_params\\n'"
      ]
     },
     "execution_count": 30,
     "metadata": {},
     "output_type": "execute_result"
    }
   ],
   "source": [
    "\"\"\"\n",
    "import optuna\n",
    "\n",
    "def objective(trial):\n",
    "    xgb_params = dict(\n",
    "        max_depth=trial.suggest_int(\"max_depth\", 2, 10),\n",
    "        learning_rate=trial.suggest_float(\"learning_rate\", 1e-4, 1e-1, log=True),\n",
    "        n_estimators=trial.suggest_int(\"n_estimators\", 1000, 8000),\n",
    "        min_child_weight=trial.suggest_int(\"min_child_weight\", 1, 10),\n",
    "        colsample_bytree=trial.suggest_float(\"colsample_bytree\", 0.2, 1.0),\n",
    "        subsample=trial.suggest_float(\"subsample\", 0.2, 1.0),\n",
    "        reg_alpha=trial.suggest_float(\"reg_alpha\", 1e-4, 1e2, log=True),\n",
    "        reg_lambda=trial.suggest_float(\"reg_lambda\", 1e-4, 1e2, log=True),\n",
    "    )\n",
    "    xgb = XGBRegressor(**xgb_params)\n",
    "    return score_dataset(X_train, y_train, xgb)\n",
    "\n",
    "study = optuna.create_study(direction=\"minimize\")\n",
    "study.optimize(objective, n_trials=30, n_jobs=-1)\n",
    "xgb_params = study.best_params\n",
    "\"\"\""
   ]
  },
  {
   "cell_type": "code",
   "execution_count": 31,
   "id": "e023089e",
   "metadata": {
    "execution": {
     "iopub.execute_input": "2024-01-25T17:21:09.936709Z",
     "iopub.status.busy": "2024-01-25T17:21:09.936218Z",
     "iopub.status.idle": "2024-01-25T17:21:09.943099Z",
     "shell.execute_reply": "2024-01-25T17:21:09.942004Z"
    },
    "papermill": {
     "duration": 0.023634,
     "end_time": "2024-01-25T17:21:09.945272",
     "exception": false,
     "start_time": "2024-01-25T17:21:09.921638",
     "status": "completed"
    },
    "tags": []
   },
   "outputs": [
    {
     "data": {
      "text/plain": [
       "\"\\nimport optuna\\n\\ndef objective(trial):\\n    lgb_params = {\\n        'objective': 'regression',\\n        'metric': 'rmse',  \\n        'boosting_type': 'gbdt',\\n        'max_depth': trial.suggest_int('max_depth', 2, 10),\\n        'learning_rate': trial.suggest_float('learning_rate', 1e-4, 1e-1, log=True),\\n        'n_estimators': trial.suggest_int('n_estimators', 1000, 8000),\\n        'num_leaves': trial.suggest_int('num_leaves', 2, 256),\\n        'min_child_samples': trial.suggest_int('min_child_samples', 1, 20),\\n        'subsample': trial.suggest_float('subsample', 0.2, 1.0),\\n        'colsample_bytree': trial.suggest_float('colsample_bytree', 0.2, 1.0),\\n        'reg_alpha': trial.suggest_float('reg_alpha', 1e-4, 1e2, log=True),\\n        'reg_lambda': trial.suggest_float('reg_lambda', 1e-4, 1e2, log=True),\\n    }\\n\\n    lgb_model = lgb.LGBMRegressor(**lgb_params)\\n    return score_dataset(X_train, y_train, lgb_model)\\n\\nstudy = optuna.create_study(direction='minimize')\\nstudy.optimize(objective, n_trials=40, n_jobs=-1)\\nlgb_params = study.best_params\\n\""
      ]
     },
     "execution_count": 31,
     "metadata": {},
     "output_type": "execute_result"
    }
   ],
   "source": [
    "\"\"\"\n",
    "import optuna\n",
    "\n",
    "def objective(trial):\n",
    "    lgb_params = {\n",
    "        'objective': 'regression',\n",
    "        'metric': 'rmse',  \n",
    "        'boosting_type': 'gbdt',\n",
    "        'max_depth': trial.suggest_int('max_depth', 2, 10),\n",
    "        'learning_rate': trial.suggest_float('learning_rate', 1e-4, 1e-1, log=True),\n",
    "        'n_estimators': trial.suggest_int('n_estimators', 1000, 8000),\n",
    "        'num_leaves': trial.suggest_int('num_leaves', 2, 256),\n",
    "        'min_child_samples': trial.suggest_int('min_child_samples', 1, 20),\n",
    "        'subsample': trial.suggest_float('subsample', 0.2, 1.0),\n",
    "        'colsample_bytree': trial.suggest_float('colsample_bytree', 0.2, 1.0),\n",
    "        'reg_alpha': trial.suggest_float('reg_alpha', 1e-4, 1e2, log=True),\n",
    "        'reg_lambda': trial.suggest_float('reg_lambda', 1e-4, 1e2, log=True),\n",
    "    }\n",
    "\n",
    "    lgb_model = lgb.LGBMRegressor(**lgb_params)\n",
    "    return score_dataset(X_train, y_train, lgb_model)\n",
    "\n",
    "study = optuna.create_study(direction='minimize')\n",
    "study.optimize(objective, n_trials=40, n_jobs=-1)\n",
    "lgb_params = study.best_params\n",
    "\"\"\""
   ]
  },
  {
   "cell_type": "code",
   "execution_count": 32,
   "id": "93b496b6",
   "metadata": {
    "execution": {
     "iopub.execute_input": "2024-01-25T17:21:09.973733Z",
     "iopub.status.busy": "2024-01-25T17:21:09.973317Z",
     "iopub.status.idle": "2024-01-25T17:21:09.979646Z",
     "shell.execute_reply": "2024-01-25T17:21:09.978696Z"
    },
    "papermill": {
     "duration": 0.022958,
     "end_time": "2024-01-25T17:21:09.981667",
     "exception": false,
     "start_time": "2024-01-25T17:21:09.958709",
     "status": "completed"
    },
    "tags": []
   },
   "outputs": [
    {
     "data": {
      "text/plain": [
       "\"\\nimport optuna\\n\\ndef objective(trial):\\n    cat_params = {\\n        'iterations': trial.suggest_int('iterations', 1000, 8000),\\n        'depth': trial.suggest_int('depth', 4, 10),\\n        'learning_rate': trial.suggest_float('learning_rate', 1e-4, 1e-1, log=True),\\n        'l2_leaf_reg': trial.suggest_float('l2_leaf_reg', 1e-4, 1e2, log=True),\\n        'subsample': trial.suggest_float('subsample', 0.2, 1.0),\\n        'colsample_bylevel': trial.suggest_float('colsample_bylevel', 0.2, 1.0),\\n        'bagging_temperature': trial.suggest_float('bagging_temperature', 0.0, 10.0),\\n    }\\n\\n    cat_model = CatBoostRegressor(**cat_params, loss_function='RMSE', silent=True)\\n    return score_dataset(X_train, y_train, cat_model)\\n\\nstudy = optuna.create_study(direction='minimize')\\nstudy.optimize(objective, n_trials=30, n_jobs=-1)\\ncat_params = study.best_params\\n\""
      ]
     },
     "execution_count": 32,
     "metadata": {},
     "output_type": "execute_result"
    }
   ],
   "source": [
    "\"\"\"\n",
    "import optuna\n",
    "\n",
    "def objective(trial):\n",
    "    cat_params = {\n",
    "        'iterations': trial.suggest_int('iterations', 1000, 8000),\n",
    "        'depth': trial.suggest_int('depth', 4, 10),\n",
    "        'learning_rate': trial.suggest_float('learning_rate', 1e-4, 1e-1, log=True),\n",
    "        'l2_leaf_reg': trial.suggest_float('l2_leaf_reg', 1e-4, 1e2, log=True),\n",
    "        'subsample': trial.suggest_float('subsample', 0.2, 1.0),\n",
    "        'colsample_bylevel': trial.suggest_float('colsample_bylevel', 0.2, 1.0),\n",
    "        'bagging_temperature': trial.suggest_float('bagging_temperature', 0.0, 10.0),\n",
    "    }\n",
    "\n",
    "    cat_model = CatBoostRegressor(**cat_params, loss_function='RMSE', silent=True)\n",
    "    return score_dataset(X_train, y_train, cat_model)\n",
    "\n",
    "study = optuna.create_study(direction='minimize')\n",
    "study.optimize(objective, n_trials=30, n_jobs=-1)\n",
    "cat_params = study.best_params\n",
    "\"\"\""
   ]
  },
  {
   "cell_type": "code",
   "execution_count": 33,
   "id": "067da66a",
   "metadata": {
    "execution": {
     "iopub.execute_input": "2024-01-25T17:21:10.009835Z",
     "iopub.status.busy": "2024-01-25T17:21:10.009411Z",
     "iopub.status.idle": "2024-01-25T17:21:10.015689Z",
     "shell.execute_reply": "2024-01-25T17:21:10.014709Z"
    },
    "papermill": {
     "duration": 0.023148,
     "end_time": "2024-01-25T17:21:10.017880",
     "exception": false,
     "start_time": "2024-01-25T17:21:09.994732",
     "status": "completed"
    },
    "tags": []
   },
   "outputs": [
    {
     "data": {
      "text/plain": [
       "'\\nX_train, X_test = create_features(df_train, df_test)\\n\\nscaler = StandardScaler()\\nX_train_scaled = scaler.fit_transform(X_train)\\nX_test_scaled = scaler.transform(X_test)\\n\\nX_train_scaled = pd.DataFrame(X_train_scaled)\\nX_test_scaled = pd.DataFrame(X_test_scaled)\\n'"
      ]
     },
     "execution_count": 33,
     "metadata": {},
     "output_type": "execute_result"
    }
   ],
   "source": [
    "\"\"\"\n",
    "X_train, X_test = create_features(df_train, df_test)\n",
    "\n",
    "scaler = StandardScaler()\n",
    "X_train_scaled = scaler.fit_transform(X_train)\n",
    "X_test_scaled = scaler.transform(X_test)\n",
    "\n",
    "X_train_scaled = pd.DataFrame(X_train_scaled)\n",
    "X_test_scaled = pd.DataFrame(X_test_scaled)\n",
    "\"\"\""
   ]
  },
  {
   "cell_type": "code",
   "execution_count": 34,
   "id": "3b67e68a",
   "metadata": {
    "execution": {
     "iopub.execute_input": "2024-01-25T17:21:10.046847Z",
     "iopub.status.busy": "2024-01-25T17:21:10.046464Z",
     "iopub.status.idle": "2024-01-25T17:21:10.056399Z",
     "shell.execute_reply": "2024-01-25T17:21:10.055197Z"
    },
    "papermill": {
     "duration": 0.026827,
     "end_time": "2024-01-25T17:21:10.058541",
     "exception": false,
     "start_time": "2024-01-25T17:21:10.031714",
     "status": "completed"
    },
    "tags": []
   },
   "outputs": [
    {
     "data": {
      "text/plain": [
       "'\\nimport optuna\\nfrom sklearn.svm import SVR\\n\\ndef objective(trial):\\n    svr_params = {\\n        \\'C\\': trial.suggest_float(\\'C\\', 1e-3, 1e3, log=True),\\n        \\'tol\\': trial.suggest_float(\\'tol\\', 1e-6, 1e-2, log=True),\\n        \\'kernel\\': trial.suggest_categorical(\\'kernel\\', [\\'linear\\', \\'poly\\', \\'rbf\\', \\'sigmoid\\']),\\n    }\\n\\n    # \\'gamma\\' parameter handling\\n    gamma_option = trial.suggest_categorical(\\'gamma_option\\', [\\'scale\\', \\'auto\\', \\'value\\'])\\n    if gamma_option == \\'value\\':\\n        svr_params[\\'gamma\\'] = trial.suggest_float(\\'gamma_val\\', 1e-3, 1e3, log=True)\\n    else:\\n        svr_params[\\'gamma\\'] = gamma_option\\n\\n    svr_params[\\'epsilon\\'] = trial.suggest_float(\\'epsilon\\', 1e-3, 1e1)\\n\\n    svr = SVR(**svr_params)\\n    return score_dataset(X_train_scaled, y_train, svr)\\n\\nstudy = optuna.create_study(direction=\"minimize\")\\nstudy.optimize(objective, n_trials=150, n_jobs=-1)\\n\\nsvr_params = study.best_params\\n'"
      ]
     },
     "execution_count": 34,
     "metadata": {},
     "output_type": "execute_result"
    }
   ],
   "source": [
    "\"\"\"\n",
    "import optuna\n",
    "from sklearn.svm import SVR\n",
    "\n",
    "def objective(trial):\n",
    "    svr_params = {\n",
    "        'C': trial.suggest_float('C', 1e-3, 1e3, log=True),\n",
    "        'tol': trial.suggest_float('tol', 1e-6, 1e-2, log=True),\n",
    "        'kernel': trial.suggest_categorical('kernel', ['linear', 'poly', 'rbf', 'sigmoid']),\n",
    "    }\n",
    "\n",
    "    # 'gamma' parameter handling\n",
    "    gamma_option = trial.suggest_categorical('gamma_option', ['scale', 'auto', 'value'])\n",
    "    if gamma_option == 'value':\n",
    "        svr_params['gamma'] = trial.suggest_float('gamma_val', 1e-3, 1e3, log=True)\n",
    "    else:\n",
    "        svr_params['gamma'] = gamma_option\n",
    "\n",
    "    svr_params['epsilon'] = trial.suggest_float('epsilon', 1e-3, 1e1)\n",
    "\n",
    "    svr = SVR(**svr_params)\n",
    "    return score_dataset(X_train_scaled, y_train, svr)\n",
    "\n",
    "study = optuna.create_study(direction=\"minimize\")\n",
    "study.optimize(objective, n_trials=150, n_jobs=-1)\n",
    "\n",
    "svr_params = study.best_params\n",
    "\"\"\""
   ]
  },
  {
   "cell_type": "code",
   "execution_count": 35,
   "id": "1f4263eb",
   "metadata": {
    "execution": {
     "iopub.execute_input": "2024-01-25T17:21:10.087236Z",
     "iopub.status.busy": "2024-01-25T17:21:10.086881Z",
     "iopub.status.idle": "2024-01-25T17:21:10.102706Z",
     "shell.execute_reply": "2024-01-25T17:21:10.101595Z"
    },
    "papermill": {
     "duration": 0.032888,
     "end_time": "2024-01-25T17:21:10.105005",
     "exception": false,
     "start_time": "2024-01-25T17:21:10.072117",
     "status": "completed"
    },
    "tags": []
   },
   "outputs": [],
   "source": [
    "xgb_params_1={\n",
    "    'max_depth': 5,\n",
    "    'learning_rate': 0.009811811778973391,\n",
    "    'n_estimators': 3251,\n",
    "    'min_child_weight': 8,\n",
    "    'colsample_bytree': 0.4690587365385624,\n",
    "    'subsample': 0.31081195048128163,\n",
    "    'reg_alpha': 0.013627948106852545,\n",
    "    'reg_lambda': 0.0041131019753380405\n",
    "} # 0.11981894876282197\n",
    "\n",
    "xgb_params_2={\n",
    "    'max_depth': 4, \n",
    "    'learning_rate': 0.006131688359853584, \n",
    "    'n_estimators': 6190, \n",
    "    'min_child_weight': 2, \n",
    "    'colsample_bytree': 0.3581743549610146, \n",
    "    'subsample': 0.5338565863990985, \n",
    "    'reg_alpha': 0.08352484119623702, \n",
    "    'reg_lambda': 0.07331349444177808\n",
    "} # 0.11596275810286498\n",
    "\n",
    "xgb_params_3={\n",
    "    'max_depth': 4, \n",
    "    'learning_rate': 0.007275762327223734, \n",
    "    'n_estimators': 6983, \n",
    "    'min_child_weight': 3, \n",
    "    'colsample_bytree': 0.3605482622053074, \n",
    "    'subsample': 0.5357686047948041, \n",
    "    'reg_alpha': 0.0636254887970877, \n",
    "    'reg_lambda': 0.07593003104774389\n",
    "} # 0.11630568020707557\n",
    "\n",
    "xgb_params_4={\n",
    "    'max_depth': 4, \n",
    "    'learning_rate': 0.005366244438186237, \n",
    "    'n_estimators': 6444, \n",
    "    'min_child_weight': 2, \n",
    "    'colsample_bytree': 0.36518645891787727, \n",
    "    'subsample': 0.5197359385165724, \n",
    "    'reg_alpha': 0.07349755828526748, \n",
    "    'reg_lambda': 0.0629176132955064\n",
    "} # 0.11628588918288764\n",
    "\n",
    "xgb_params_5 ={\n",
    "    'max_depth': 4, \n",
    "    'learning_rate': 0.008104469354696579, \n",
    "    'n_estimators': 6920, \n",
    "    'min_child_weight': 3, \n",
    "    'colsample_bytree': 0.5433187101830356, \n",
    "    'subsample': 0.5548301950621344, \n",
    "    'reg_alpha': 0.07767424218475522, \n",
    "    'reg_lambda': 0.0521860849210868\n",
    "} # 0.11717848187649936\n",
    "\n",
    "lgb_params_1={\n",
    "    'max_depth': 4, \n",
    "    'learning_rate': 0.0021310684255559523, \n",
    "    'n_estimators': 5407, 'num_leaves': 232, \n",
    "    'min_child_samples': 1, \n",
    "    'subsample': 0.654241325998742, \n",
    "    'colsample_bytree': 0.31946876906923594, \n",
    "    'reg_alpha': 0.0020187475722182654, \n",
    "    'reg_lambda': 0.005983642942367561\n",
    "} # 0.11766901079356895\n",
    "\n",
    "lgb_params_2={\n",
    "    'max_depth': 3, \n",
    "    'learning_rate': 0.0023577067509307457, \n",
    "    'n_estimators': 6615, \n",
    "    'num_leaves': 222, \n",
    "    'min_child_samples': 3, \n",
    "    'subsample': 0.6877600517982115, \n",
    "    'colsample_bytree': 0.22068631570014513, \n",
    "    'reg_alpha': 0.001766853153942256, \n",
    "    'reg_lambda': 0.020193825712480122\n",
    "} # 0.11793638007458038\n",
    "\n",
    "lgb_params_3={\n",
    "    'max_depth': 3, \n",
    "    'learning_rate': 0.002376040462000249, \n",
    "    'n_estimators': 7499, \n",
    "    'num_leaves': 233, \n",
    "    'min_child_samples': 3, \n",
    "    'subsample': 0.6483413091168801, \n",
    "    'colsample_bytree': 0.30963898272005613, \n",
    "    'reg_alpha': 0.0029376559027465186, \n",
    "    'reg_lambda': 0.003668791628745425\n",
    "} # 0.11821324758453972\n",
    "\n",
    "cat_params_1={\n",
    "    'iterations': 3850, \n",
    "    'depth': 4, \n",
    "    'learning_rate': 0.004518075636406027, \n",
    "    'l2_leaf_reg': 0.1741669437114363, \n",
    "    'subsample': 0.5277491968160333, \n",
    "    'colsample_bylevel': 0.46162966224696433, \n",
    "    'bagging_temperature': 3.514720095209285\n",
    "} # 0.11705541579619383\n",
    "\n",
    "cat_params_2={\n",
    "    'iterations': 5470, \n",
    "    'depth': 5, \n",
    "    'learning_rate': 0.0032143813719749314, \n",
    "    'l2_leaf_reg': 0.013481045861822716, \n",
    "    'subsample': 0.5325670907835423, \n",
    "    'colsample_bylevel': 0.4685683864689023, \n",
    "    'bagging_temperature': 0.5302149393755751\n",
    "} # 0.11609408870008495\n",
    "\n",
    "cat_params_3={\n",
    "    'iterations': 7510, \n",
    "    'depth': 7, \n",
    "    'learning_rate': 0.012187754350329648, \n",
    "    'l2_leaf_reg': 1.6647298534098425, \n",
    "    'subsample': 0.21557070074390394, \n",
    "    'colsample_bylevel': 0.4919700393815163, \n",
    "    'bagging_temperature': 7.661717088696472\n",
    "} # 0.11830278177607272\n",
    "\n",
    "cat_params_4={\n",
    "    'iterations': 7967, \n",
    "    'depth': 4, \n",
    "    'learning_rate': 0.005678833174610827, \n",
    "    'l2_leaf_reg': 0.0011273910062082509, \n",
    "    'subsample': 0.3612127498561881, \n",
    "    'colsample_bylevel': 0.7215424952749481, \n",
    "    'bagging_temperature': 4.230742958640712\n",
    "} # 0.11570516174469699\n",
    "\n",
    "cat_params_5={\n",
    "    'iterations': 2633, \n",
    "    'depth': 4, \n",
    "    'learning_rate': 0.04380189764106485, \n",
    "    'l2_leaf_reg': 0.002394013286130235, \n",
    "    'subsample': 0.2197653771706766, \n",
    "    'colsample_bylevel': 0.7625498390819843, \n",
    "    'bagging_temperature': 2.2637127205720695\n",
    "} # 0.11623359281092188\n",
    "\n",
    "svr_params_1={\n",
    "    'C': 4.261173128828286,\n",
    "    'tol': 0.004238177798590693,\n",
    "    'kernel': 'rbf',\n",
    "    'gamma_option': 'value',\n",
    "    'gamma_val': 0.0016666756337017465,\n",
    "    'epsilon': 0.002735356336222826\n",
    "} # 0.12322817414445354\n",
    "\n",
    "svr_params_2={\n",
    "    'C': 8.082219065252241, \n",
    "    'tol': 0.0023987760084588855, \n",
    "    'kernel': 'rbf', \n",
    "    'gamma_option': 'value', \n",
    "    'gamma_val': 0.0010921372030843438, \n",
    "    'epsilon': 0.005121382962734013\n",
    "} # 0.123664157129358"
   ]
  },
  {
   "cell_type": "code",
   "execution_count": 36,
   "id": "1a607470",
   "metadata": {
    "execution": {
     "iopub.execute_input": "2024-01-25T17:21:10.134155Z",
     "iopub.status.busy": "2024-01-25T17:21:10.133775Z",
     "iopub.status.idle": "2024-01-25T17:21:10.140005Z",
     "shell.execute_reply": "2024-01-25T17:21:10.138945Z"
    },
    "papermill": {
     "duration": 0.023347,
     "end_time": "2024-01-25T17:21:10.142210",
     "exception": false,
     "start_time": "2024-01-25T17:21:10.118863",
     "status": "completed"
    },
    "tags": []
   },
   "outputs": [
    {
     "data": {
      "text/plain": [
       "'\\nX_train, X_test = create_features(df_train, df_test)\\ny_train = df_train.loc[:, \"SalePrice\"]\\n\\ncat = XGBRegressor(**xgb_params_1)\\nscore_dataset(X_train, y_train, cat)\\n'"
      ]
     },
     "execution_count": 36,
     "metadata": {},
     "output_type": "execute_result"
    }
   ],
   "source": [
    "\"\"\"\n",
    "X_train, X_test = create_features(df_train, df_test)\n",
    "y_train = df_train.loc[:, \"SalePrice\"]\n",
    "\n",
    "cat = XGBRegressor(**xgb_params_1)\n",
    "score_dataset(X_train, y_train, cat)\n",
    "\"\"\""
   ]
  },
  {
   "cell_type": "code",
   "execution_count": 37,
   "id": "8d4a0dcd",
   "metadata": {
    "execution": {
     "iopub.execute_input": "2024-01-25T17:21:10.171051Z",
     "iopub.status.busy": "2024-01-25T17:21:10.170671Z",
     "iopub.status.idle": "2024-01-25T17:21:10.178065Z",
     "shell.execute_reply": "2024-01-25T17:21:10.176950Z"
    },
    "papermill": {
     "duration": 0.02485,
     "end_time": "2024-01-25T17:21:10.180686",
     "exception": false,
     "start_time": "2024-01-25T17:21:10.155836",
     "status": "completed"
    },
    "tags": []
   },
   "outputs": [
    {
     "data": {
      "text/plain": [
       "'\\nfrom sklearn.ensemble import VotingRegressor\\n\\nX_train, X_test = create_features(df_train, df_test)\\ny_train = df_train.loc[:, \"SalePrice\"]\\n\\nX_train_no_outliers, y_train_no_outliers = remove_outliers(X_train, y_train)\\n\\nensemble_model = VotingRegressor([\\n    (\\'stacking_model_1\\', XGBRegressor(**xgb_params_1)), \\n    (\\'stacking_model_2\\', XGBRegressor(**xgb_params_2)),\\n    (\\'stacking_model_3\\', XGBRegressor(**xgb_params_3)),\\n    (\\'stacking_model_4\\', XGBRegressor(**xgb_params_4)),\\n    (\\'stacking_model_5\\', XGBRegressor(**xgb_params_5)),\\n    (\\'stacking_model_6\\', lgb.LGBMRegressor(**lgb_params_1)), \\n    (\\'stacking_model_7\\', lgb.LGBMRegressor(**lgb_params_2)),\\n    (\\'stacking_model_8\\', lgb.LGBMRegressor(**lgb_params_3)),\\n    (\\'stacking_model_9\\', CatBoostRegressor(**cat_params_1, loss_function=\\'RMSE\\', silent=True)),\\n    (\\'stacking_model_10\\', CatBoostRegressor(**cat_params_2, loss_function=\\'RMSE\\', silent=True)),\\n    (\\'stacking_model_11\\', CatBoostRegressor(**cat_params_3, loss_function=\\'RMSE\\', silent=True)), \\n    (\\'stacking_model_12\\', CatBoostRegressor(**cat_params_4, loss_function=\\'RMSE\\', silent=True)),\\n    (\\'stacking_model_13\\', CatBoostRegressor(**cat_params_5, loss_function=\\'RMSE\\', silent=True)),\\n], n_jobs=-1)\\nscore_dataset(X_train_no_outliers, y_train_no_outliers, ensemble_model)\\n'"
      ]
     },
     "execution_count": 37,
     "metadata": {},
     "output_type": "execute_result"
    }
   ],
   "source": [
    "\"\"\"\n",
    "from sklearn.ensemble import VotingRegressor\n",
    "\n",
    "X_train, X_test = create_features(df_train, df_test)\n",
    "y_train = df_train.loc[:, \"SalePrice\"]\n",
    "\n",
    "X_train_no_outliers, y_train_no_outliers = remove_outliers(X_train, y_train)\n",
    "\n",
    "ensemble_model = VotingRegressor([\n",
    "    ('stacking_model_1', XGBRegressor(**xgb_params_1)), \n",
    "    ('stacking_model_2', XGBRegressor(**xgb_params_2)),\n",
    "    ('stacking_model_3', XGBRegressor(**xgb_params_3)),\n",
    "    ('stacking_model_4', XGBRegressor(**xgb_params_4)),\n",
    "    ('stacking_model_5', XGBRegressor(**xgb_params_5)),\n",
    "    ('stacking_model_6', lgb.LGBMRegressor(**lgb_params_1)), \n",
    "    ('stacking_model_7', lgb.LGBMRegressor(**lgb_params_2)),\n",
    "    ('stacking_model_8', lgb.LGBMRegressor(**lgb_params_3)),\n",
    "    ('stacking_model_9', CatBoostRegressor(**cat_params_1, loss_function='RMSE', silent=True)),\n",
    "    ('stacking_model_10', CatBoostRegressor(**cat_params_2, loss_function='RMSE', silent=True)),\n",
    "    ('stacking_model_11', CatBoostRegressor(**cat_params_3, loss_function='RMSE', silent=True)), \n",
    "    ('stacking_model_12', CatBoostRegressor(**cat_params_4, loss_function='RMSE', silent=True)),\n",
    "    ('stacking_model_13', CatBoostRegressor(**cat_params_5, loss_function='RMSE', silent=True)),\n",
    "], n_jobs=-1)\n",
    "score_dataset(X_train_no_outliers, y_train_no_outliers, ensemble_model)\n",
    "\"\"\""
   ]
  },
  {
   "cell_type": "code",
   "execution_count": 38,
   "id": "510c715e",
   "metadata": {
    "execution": {
     "iopub.execute_input": "2024-01-25T17:21:10.211043Z",
     "iopub.status.busy": "2024-01-25T17:21:10.210657Z",
     "iopub.status.idle": "2024-01-25T17:21:10.218024Z",
     "shell.execute_reply": "2024-01-25T17:21:10.216957Z"
    },
    "papermill": {
     "duration": 0.025431,
     "end_time": "2024-01-25T17:21:10.220247",
     "exception": false,
     "start_time": "2024-01-25T17:21:10.194816",
     "status": "completed"
    },
    "tags": []
   },
   "outputs": [
    {
     "data": {
      "text/plain": [
       "'\\nfrom sklearn.ensemble import StackingRegressor\\nfrom sklearn.ensemble import GradientBoostingRegressor\\n\\nbase_models = [\\n    (\\'stacking_model_1\\', XGBRegressor(**xgb_params_1)), \\n    (\\'stacking_model_2\\', XGBRegressor(**xgb_params_2)),\\n    (\\'stacking_model_3\\', XGBRegressor(**xgb_params_3)),\\n    (\\'stacking_model_4\\', XGBRegressor(**xgb_params_4)),\\n    (\\'stacking_model_5\\', XGBRegressor(**xgb_params_5)),\\n    (\\'stacking_model_6\\', lgb.LGBMRegressor(**lgb_params_1)), \\n    (\\'stacking_model_7\\', lgb.LGBMRegressor(**lgb_params_2)),\\n    (\\'stacking_model_8\\', lgb.LGBMRegressor(**lgb_params_3)),\\n    (\\'stacking_model_9\\', CatBoostRegressor(**cat_params_1, loss_function=\\'RMSE\\', silent=True)),\\n    (\\'stacking_model_10\\', CatBoostRegressor(**cat_params_2, loss_function=\\'RMSE\\', silent=True)),\\n    (\\'stacking_model_11\\', CatBoostRegressor(**cat_params_3, loss_function=\\'RMSE\\', silent=True)), \\n    (\\'stacking_model_12\\', CatBoostRegressor(**cat_params_4, loss_function=\\'RMSE\\', silent=True)),\\n    (\\'stacking_model_13\\', CatBoostRegressor(**cat_params_5, loss_function=\\'RMSE\\', silent=True)),\\n]\\n\\nmeta_model = GradientBoostingRegressor()\\n\\nensemble_model = StackingRegressor(\\n    estimators=base_models,\\n    final_estimator=meta_model\\n)\\n\\nX_train, X_test = create_features(df_train, df_test)\\ny_train = df_train.loc[:, \"SalePrice\"]\\n\\nscore_dataset(X_train, y_train, ensemble_model)\\n'"
      ]
     },
     "execution_count": 38,
     "metadata": {},
     "output_type": "execute_result"
    }
   ],
   "source": [
    "\"\"\"\n",
    "from sklearn.ensemble import StackingRegressor\n",
    "from sklearn.ensemble import GradientBoostingRegressor\n",
    "\n",
    "base_models = [\n",
    "    ('stacking_model_1', XGBRegressor(**xgb_params_1)), \n",
    "    ('stacking_model_2', XGBRegressor(**xgb_params_2)),\n",
    "    ('stacking_model_3', XGBRegressor(**xgb_params_3)),\n",
    "    ('stacking_model_4', XGBRegressor(**xgb_params_4)),\n",
    "    ('stacking_model_5', XGBRegressor(**xgb_params_5)),\n",
    "    ('stacking_model_6', lgb.LGBMRegressor(**lgb_params_1)), \n",
    "    ('stacking_model_7', lgb.LGBMRegressor(**lgb_params_2)),\n",
    "    ('stacking_model_8', lgb.LGBMRegressor(**lgb_params_3)),\n",
    "    ('stacking_model_9', CatBoostRegressor(**cat_params_1, loss_function='RMSE', silent=True)),\n",
    "    ('stacking_model_10', CatBoostRegressor(**cat_params_2, loss_function='RMSE', silent=True)),\n",
    "    ('stacking_model_11', CatBoostRegressor(**cat_params_3, loss_function='RMSE', silent=True)), \n",
    "    ('stacking_model_12', CatBoostRegressor(**cat_params_4, loss_function='RMSE', silent=True)),\n",
    "    ('stacking_model_13', CatBoostRegressor(**cat_params_5, loss_function='RMSE', silent=True)),\n",
    "]\n",
    "\n",
    "meta_model = GradientBoostingRegressor()\n",
    "\n",
    "ensemble_model = StackingRegressor(\n",
    "    estimators=base_models,\n",
    "    final_estimator=meta_model\n",
    ")\n",
    "\n",
    "X_train, X_test = create_features(df_train, df_test)\n",
    "y_train = df_train.loc[:, \"SalePrice\"]\n",
    "\n",
    "score_dataset(X_train, y_train, ensemble_model)\n",
    "\"\"\""
   ]
  },
  {
   "cell_type": "code",
   "execution_count": 39,
   "id": "574899ba",
   "metadata": {
    "execution": {
     "iopub.execute_input": "2024-01-25T17:21:10.250361Z",
     "iopub.status.busy": "2024-01-25T17:21:10.249966Z",
     "iopub.status.idle": "2024-01-25T17:21:10.256653Z",
     "shell.execute_reply": "2024-01-25T17:21:10.255625Z"
    },
    "papermill": {
     "duration": 0.024588,
     "end_time": "2024-01-25T17:21:10.259158",
     "exception": false,
     "start_time": "2024-01-25T17:21:10.234570",
     "status": "completed"
    },
    "tags": []
   },
   "outputs": [
    {
     "data": {
      "text/plain": [
       "'\\n# XGB minimizes MSE, but competition loss is RMSLE\\n# So, we need to log-transform y to train and exp-transform the predictions\\nensemble_model.fit(X_train, np.log(y))\\npredictions = np.exp(ensemble_model.predict(X_test))\\n\\noutput = pd.DataFrame({\\'Id\\': X_test.index, \\'SalePrice\\': predictions})\\noutput.to_csv(\\'my_submission.csv\\', index=False)\\nprint(\"Your submission was successfully saved!\")\\n'"
      ]
     },
     "execution_count": 39,
     "metadata": {},
     "output_type": "execute_result"
    }
   ],
   "source": [
    "\"\"\"\n",
    "# XGB minimizes MSE, but competition loss is RMSLE\n",
    "# So, we need to log-transform y to train and exp-transform the predictions\n",
    "ensemble_model.fit(X_train, np.log(y))\n",
    "predictions = np.exp(ensemble_model.predict(X_test))\n",
    "\n",
    "output = pd.DataFrame({'Id': X_test.index, 'SalePrice': predictions})\n",
    "output.to_csv('my_submission.csv', index=False)\n",
    "print(\"Your submission was successfully saved!\")\n",
    "\"\"\""
   ]
  },
  {
   "cell_type": "markdown",
   "id": "507a681e",
   "metadata": {
    "papermill": {
     "duration": 0.013469,
     "end_time": "2024-01-25T17:21:10.286416",
     "exception": false,
     "start_time": "2024-01-25T17:21:10.272947",
     "status": "completed"
    },
    "tags": []
   },
   "source": [
    "---\n",
    "\n",
    "\n",
    "\n",
    "\n",
    "*Have questions or comments? Visit the [course discussion forum](https://www.kaggle.com/learn/feature-engineering/discussion) to chat with other learners.*"
   ]
  }
 ],
 "metadata": {
  "jupytext": {
   "cell_metadata_filter": "-all",
   "formats": "ipynb"
  },
  "kaggle": {
   "accelerator": "none",
   "dataSources": [
    {
     "databundleVersionId": 868283,
     "sourceId": 5407,
     "sourceType": "competition"
    }
   ],
   "isGpuEnabled": false,
   "isInternetEnabled": false,
   "language": "python",
   "sourceType": "notebook"
  },
  "kernelspec": {
   "display_name": "Python 3",
   "language": "python",
   "name": "python3"
  },
  "language_info": {
   "codemirror_mode": {
    "name": "ipython",
    "version": 3
   },
   "file_extension": ".py",
   "mimetype": "text/x-python",
   "name": "python",
   "nbconvert_exporter": "python",
   "pygments_lexer": "ipython3",
   "version": "3.10.12"
  },
  "papermill": {
   "default_parameters": {},
   "duration": 26.13721,
   "end_time": "2024-01-25T17:21:11.122235",
   "environment_variables": {},
   "exception": null,
   "input_path": "__notebook__.ipynb",
   "output_path": "__notebook__.ipynb",
   "parameters": {},
   "start_time": "2024-01-25T17:20:44.985025",
   "version": "2.4.0"
  }
 },
 "nbformat": 4,
 "nbformat_minor": 5
}
